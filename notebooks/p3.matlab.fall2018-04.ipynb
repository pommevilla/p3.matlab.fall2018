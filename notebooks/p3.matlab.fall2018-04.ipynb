{
 "cells": [
  {
   "cell_type": "markdown",
   "metadata": {},
   "source": [
    "# Introduction to MATLAB\n",
    "\n",
    "## Section 3: A (very brief) introduction to machine learning\n",
    "\n",
    "As mentioned in the Introduction, one of MATLAB's biggest strengths is its large collection of libraries and its abilities to get code up and running quickly.  As an example, we will perform some basic machine learning with `alexnet`, a neural network that is part of the Neural Network Toolbox.\n",
    "\n",
    "### Section 3.1: Installing `alexnet`\n",
    "\n",
    "The Neural Network toolbox doesn't come installed in the base MATLAB installation, so to use `alexnet`, you need to install it.  The easiest way to do it is to just type `alexnet` into your console and follow the instructions."
   ]
  }
 ],
 "metadata": {
  "kernelspec": {
   "display_name": "Matlab",
   "language": "matlab",
   "name": "matlab"
  },
  "language_info": {
   "codemirror_mode": "octave",
   "file_extension": ".m",
   "help_links": [
    {
     "text": "MetaKernel Magics",
     "url": "https://github.com/calysto/metakernel/blob/master/metakernel/magics/README.md"
    }
   ],
   "mimetype": "text/x-octave",
   "name": "matlab",
   "version": "0.15.1"
  }
 },
 "nbformat": 4,
 "nbformat_minor": 2
}
