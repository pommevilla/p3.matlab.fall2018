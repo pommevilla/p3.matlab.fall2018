{
 "cells": [
  {
   "cell_type": "markdown",
   "metadata": {},
   "source": [
    "# Introduction to MATLAB\n",
    "\n",
    "\n",
    "## Section 2: Functions\n",
    "\n",
    "Functions are modules of code that take in arguments and do something with them.  For instance, `size` takes in a matrix and returns its dimensions.  `mean` takes in a matrix and a dimension and returns the mean along that dimension.  The `:` operator is also a function; it takes a beginning, end, and step size and returns a matrix.  \n",
    "\n",
    "But why use functions?\n",
    "\n",
    "* **Portability**: By writing your code as a function, you can export it to your other programs and share it with others.  For example, when you're  doing research, someone may be interested in how you performed a certain analysis or data transformation.  \n",
    "* **Readability**: It's typically easier to understand what a fnction is doing by its name than by looking at it's code.  This is especially important when sharing code with other people.\n",
    "* **Debuggability**: Suppose you decide to copy-paste your code everywhere instead of writing a function. If you find an error in your code, you have to go to each code chunk and manually change it. On the other hand, if you wrote a function, you only need to make changes in the function declaration itself.\n",
    "\n",
    "We'll begin by working a little more with some built-in MATLAB functions.  Afterwards, we'll write some of our own.  \n",
    "\n",
    "### Section 2.1: Working with multiple function outputs\n",
    "\n",
    "Recall that `size` returns the dimensions of a matrix.  We can save the result into a single variable..."
   ]
  },
  {
   "cell_type": "code",
   "execution_count": 2,
   "metadata": {},
   "outputs": [
    {
     "name": "stdout",
     "output_type": "stream",
     "text": [
      "a_dims =\n",
      "     3     3\n"
     ]
    }
   ],
   "source": [
    "format compact\n",
    "a = [1:3; 4:6; 7:9];\n",
    "a_dims = size(a)"
   ]
  },
  {
   "cell_type": "markdown",
   "metadata": {},
   "source": [
    "...and we can access the number of rows and columns by indexing:"
   ]
  },
  {
   "cell_type": "code",
   "execution_count": 3,
   "metadata": {},
   "outputs": [
    {
     "name": "stdout",
     "output_type": "stream",
     "text": [
      "ans =\n",
      "     3\n"
     ]
    }
   ],
   "source": [
    "a_dims(1)"
   ]
  },
  {
   "cell_type": "code",
   "execution_count": 4,
   "metadata": {},
   "outputs": [
    {
     "name": "stdout",
     "output_type": "stream",
     "text": [
      "ans =\n",
      "     3\n"
     ]
    }
   ],
   "source": [
    "a_dims(2)"
   ]
  },
  {
   "cell_type": "markdown",
   "metadata": {},
   "source": [
    "Note that `size` returned 2 values.  We can save each of these to a separate variable in the following way:"
   ]
  },
  {
   "cell_type": "code",
   "execution_count": 5,
   "metadata": {},
   "outputs": [],
   "source": [
    "[a_nrows, a_ncols] = size(a);"
   ]
  },
  {
   "cell_type": "markdown",
   "metadata": {},
   "source": [
    "And now we can use them as we would any other variable.  "
   ]
  },
  {
   "cell_type": "code",
   "execution_count": 6,
   "metadata": {},
   "outputs": [
    {
     "name": "stdout",
     "output_type": "stream",
     "text": [
      "a_nrows =\n",
      "     3\n"
     ]
    }
   ],
   "source": [
    "a_nrows"
   ]
  },
  {
   "cell_type": "code",
   "execution_count": 7,
   "metadata": {},
   "outputs": [
    {
     "name": "stdout",
     "output_type": "stream",
     "text": [
      "a_ncols =\n",
      "     3\n"
     ]
    }
   ],
   "source": [
    "a_ncols"
   ]
  },
  {
   "cell_type": "markdown",
   "metadata": {},
   "source": [
    "#### Exercise 2.1\n",
    "\n",
    "1. Create a row vector `y` of 20 random numbers.  Using the `max` function, find the largest element in `y` and the index of the largest element.  Save these values to `y_max` and `y_max_index`, respectively. \n",
    "\n",
    "### Section 2.2: Writing your first function\n",
    "\n",
    "In MATLAB, you write your functions to a `.m` file of the same name.  For instance, if your function was named `foo`, then you would define the function in a file named `foo.m`.  You can create a function in MATLAB by clicking `New > Function`.  MATLAB will then provide some starter code for your new function.  Your console will look something like this:\n",
    "\n",
    "![Does this work?](../../images/matlab_new_func.png)\n",
    "\n",
    "You'll see that the body of the function already has some documentation strings (the lines started with `%`) and some code.  We'll now write our first function, `square`.  This function will take in a number and return its square.  Make the following changes to the starter code:\n",
    "\n",
    "* Replace `outputArg1,outputArg2` with `x_sqr`.\n",
    "* Replace `untitled` with `square`.\n",
    "* Replace `inputArg1,inputArg2` with `x`.\n",
    "* Replace the 2 lines of code in the body with `x_sqr = x ^ 2`.  \n",
    "* Replace the documentation strings with some relevant descriptions.\n",
    "\n",
    "Your code should look something like this (modulo the first line):"
   ]
  },
  {
   "cell_type": "code",
   "execution_count": 8,
   "metadata": {},
   "outputs": [
    {
     "name": "stdout",
     "output_type": "stream",
     "text": [
      "Created file '/Users/pvillanueva13/Documents/Notebooks/p3.matlab.fall2018/notebooks/sections/square.m'.\n"
     ]
    }
   ],
   "source": [
    "%%file square.m \n",
    "function [ x_sqr ] = square(x)\n",
    "%square: Calculate the square of input\n",
    "%    Returns the input multiplied by itself.  \n",
    "    x_sqr = x * x;\n",
    "end"
   ]
  },
  {
   "cell_type": "markdown",
   "metadata": {},
   "source": [
    "Go ahead and save the file.  MATLAB will automatically name the file `square.m` and will save it in your current working directory.  Now that it's saved, we're now able to use it just like any other function:"
   ]
  },
  {
   "cell_type": "code",
   "execution_count": 9,
   "metadata": {},
   "outputs": [
    {
     "name": "stdout",
     "output_type": "stream",
     "text": [
      "ans =\n",
      "    25\n"
     ]
    }
   ],
   "source": [
    "square(5)"
   ]
  },
  {
   "cell_type": "code",
   "execution_count": 10,
   "metadata": {},
   "outputs": [
    {
     "name": "stdout",
     "output_type": "stream",
     "text": [
      "ans =\n",
      "     1\n"
     ]
    }
   ],
   "source": [
    "square(-1)"
   ]
  },
  {
   "cell_type": "markdown",
   "metadata": {},
   "source": [
    "#### Exercise 2.2\n",
    "\n",
    "1. Try `square` with various .  What kind of inputs can it handle? What is unclear about the function? \n",
    "2. Modify `square` so that it can square matrices of any size via componentwise multiplication.\n",
    "3. Modify `square` so that it performs matrix multiplication on the input.\n",
    "4. Write the function `cube` that returns the input cubed via componentwise multiplication.\n",
    "5. Write a function `affine_shift` that takes in a matrix `x` and two scalars `M` and `b` and returns the matrix `Mx + b`.  (Read more about affine transformations [here](https://en.wikipedia.org/wiki/Affine_transformation))\n",
    "\n",
    "### Section 2.3: Logical statements and logical indexing\n",
    "\n",
    "The functions that we've made so far only do one predetermined task.  To make our functions more sophisticated, we will have them perform different tasks based on the input provided.  The function will decide what to do based on the evaluation of a conditional statement.\n",
    "\n",
    "In MATLAB, conditional statements are statements that evaluate to either 1 (True) or `False`For example, the `==` operator determines if two expressions are equal:"
   ]
  },
  {
   "cell_type": "code",
   "execution_count": 11,
   "metadata": {},
   "outputs": [
    {
     "name": "stdout",
     "output_type": "stream",
     "text": [
      "ans =\n",
      "  logical\n",
      "   1\n"
     ]
    }
   ],
   "source": [
    "2 == 2"
   ]
  },
  {
   "cell_type": "code",
   "execution_count": 12,
   "metadata": {},
   "outputs": [
    {
     "name": "stdout",
     "output_type": "stream",
     "text": [
      "ans =\n",
      "  logical\n",
      "   0\n"
     ]
    }
   ],
   "source": [
    "mod(5, 2) == 0"
   ]
  },
  {
   "cell_type": "markdown",
   "metadata": {},
   "source": [
    "Conversely, the `~=` operator tests for inequality:"
   ]
  },
  {
   "cell_type": "code",
   "execution_count": 13,
   "metadata": {},
   "outputs": [
    {
     "name": "stdout",
     "output_type": "stream",
     "text": [
      "ans =\n",
      "  logical\n",
      "   1\n"
     ]
    }
   ],
   "source": [
    "33 ~= pi * 11"
   ]
  },
  {
   "cell_type": "markdown",
   "metadata": {},
   "source": [
    "The inequality operators `>`, `<`, `>=`, and `<=` behave just as expected from math."
   ]
  },
  {
   "cell_type": "code",
   "execution_count": 14,
   "metadata": {},
   "outputs": [
    {
     "name": "stdout",
     "output_type": "stream",
     "text": [
      "ans =\n",
      "  logical\n",
      "   1\n"
     ]
    }
   ],
   "source": [
    "5 >= 5"
   ]
  },
  {
   "cell_type": "code",
   "execution_count": 3,
   "metadata": {},
   "outputs": [
    {
     "name": "stdout",
     "output_type": "stream",
     "text": [
      "ans =\n",
      "  logical\n",
      "   0\n"
     ]
    }
   ],
   "source": [
    "5 < 5"
   ]
  },
  {
   "cell_type": "markdown",
   "metadata": {},
   "source": [
    "The boolean operator `&` (\"and\") takes in two conditional statements and returns 1 if both statements are true and false otherwise:"
   ]
  },
  {
   "cell_type": "code",
   "execution_count": 4,
   "metadata": {},
   "outputs": [
    {
     "name": "stdout",
     "output_type": "stream",
     "text": [
      "ans =\n",
      "  logical\n",
      "   0\n"
     ]
    }
   ],
   "source": [
    "sin(pi) == 0 & mod(17, 2) == 0 "
   ]
  },
  {
   "cell_type": "code",
   "execution_count": 5,
   "metadata": {},
   "outputs": [
    {
     "name": "stdout",
     "output_type": "stream",
     "text": [
      "ans =\n",
      "  logical\n",
      "   0\n"
     ]
    }
   ],
   "source": [
    "cos(pi) == mod(17, 2) & 13 == 52 / 4 "
   ]
  },
  {
   "cell_type": "markdown",
   "metadata": {},
   "source": [
    "The boolean operator `|` (\"or\") takes in two conditional statements and returns 1 if one of the statements is true and false otherwise:"
   ]
  },
  {
   "cell_type": "code",
   "execution_count": 7,
   "metadata": {},
   "outputs": [
    {
     "name": "stdout",
     "output_type": "stream",
     "text": [
      "ans =\n",
      "  logical\n",
      "   1\n"
     ]
    }
   ],
   "source": [
    "5 == 10 / 2 | mod(17, 2) == 0 "
   ]
  },
  {
   "cell_type": "markdown",
   "metadata": {},
   "source": [
    "We can also find the elements of a matrix that fulfill a certain condition via logical indexing.  For example, if we had a 5 by 5 matrix of random numbers between 0 and 1 and we wanted to know which ones were greater than 0.6, we can find out by doing:"
   ]
  },
  {
   "cell_type": "code",
   "execution_count": 8,
   "metadata": {},
   "outputs": [
    {
     "name": "stdout",
     "output_type": "stream",
     "text": [
      "rand_nums =\n",
      "    0.8147    0.0975    0.1576    0.1419    0.6557\n",
      "    0.9058    0.2785    0.9706    0.4218    0.0357\n",
      "    0.1270    0.5469    0.9572    0.9157    0.8491\n",
      "    0.9134    0.9575    0.4854    0.7922    0.9340\n",
      "    0.6324    0.9649    0.8003    0.9595    0.6787\n"
     ]
    }
   ],
   "source": [
    "rand_nums = rand(5)"
   ]
  },
  {
   "cell_type": "code",
   "execution_count": 10,
   "metadata": {},
   "outputs": [
    {
     "name": "stdout",
     "output_type": "stream",
     "text": [
      "high_nums =\n",
      "    0.8147\n",
      "    0.9058\n",
      "    0.9134\n",
      "    0.6324\n",
      "    0.9575\n",
      "    0.9649\n",
      "    0.9706\n",
      "    0.9572\n",
      "    0.8003\n",
      "    0.9157\n",
      "    0.7922\n",
      "    0.9595\n",
      "    0.6557\n",
      "    0.8491\n",
      "    0.9340\n",
      "    0.6787\n"
     ]
    }
   ],
   "source": [
    "high_nums = rand_nums(rand_nums > 0.6)"
   ]
  },
  {
   "cell_type": "markdown",
   "metadata": {},
   "source": [
    "You can also use logical indexing to replace values in an array that meet a certain condition.  For instance, suppose we're thresholding our data so that values under 0.6 can be treated as 0.  We can do this by doing: "
   ]
  },
  {
   "cell_type": "code",
   "execution_count": 11,
   "metadata": {},
   "outputs": [
    {
     "name": "stdout",
     "output_type": "stream",
     "text": [
      "rand_nums =\n",
      "    0.8147         0         0         0    0.6557\n",
      "    0.9058         0    0.9706         0         0\n",
      "         0         0    0.9572    0.9157    0.8491\n",
      "    0.9134    0.9575         0    0.7922    0.9340\n",
      "    0.6324    0.9649    0.8003    0.9595    0.6787\n"
     ]
    }
   ],
   "source": [
    "rand_nums(rand_nums < 0.6) = 0"
   ]
  },
  {
   "cell_type": "markdown",
   "metadata": {},
   "source": [
    "#### Exercise 2.3\n",
    "\n",
    "1. Write a function `is_odd` that evaluates to true when the input is odd and even otherwise.  \n",
    "2. Write the function `count_sigs` that takes in a matrix `mat` and a threshold `thresh` that returns the number of entries in `mat` that are greater than `thresh`.  Assume the values in `mat` are between 0 and 1.  \n",
    "\n",
    "### Section 2.4: Decision Branching\n",
    "\n",
    "We will now use logical statements to have our program make decisions for us using `if-else` statements.  `if-else` statements are of the following form:\n",
    "\n",
    "```Matlab\n",
    "    if <condition>\n",
    "        <action>\n",
    "    else\n",
    "        <action>\n",
    "    end\n",
    "```\n",
    "\n",
    "For example, "
   ]
  },
  {
   "cell_type": "markdown",
   "metadata": {},
   "source": [
    "[Previous Section: MATLAB Basics](p3.matlab.fall2018-01.ipynb)<br>\n",
    "[Next Section: Application: Identifying Diseased Plants](p3.matlab.fall2018-03.ipynb)"
   ]
  }
 ],
 "metadata": {
  "kernelspec": {
   "display_name": "Matlab",
   "language": "matlab",
   "name": "matlab"
  },
  "language_info": {
   "codemirror_mode": "octave",
   "file_extension": ".m",
   "help_links": [
    {
     "text": "MetaKernel Magics",
     "url": "https://github.com/calysto/metakernel/blob/master/metakernel/magics/README.md"
    }
   ],
   "mimetype": "text/x-octave",
   "name": "matlab",
   "version": "0.15.1"
  }
 },
 "nbformat": 4,
 "nbformat_minor": 2
}
