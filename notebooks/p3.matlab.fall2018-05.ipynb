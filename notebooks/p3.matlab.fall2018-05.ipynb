{
 "cells": [
  {
   "cell_type": "markdown",
   "metadata": {},
   "source": [
    "# Introduction to MATLAB\n",
    "\n",
    "## Section 5: What next?\n",
    "\n",
    "* This introduction was intended more to show the capabilities of MATLAB than to make someone an expert in the language.  For that, I (again) highly suggest [MATLAB's introductory courses](https://matlabacademy.mathworks.com).\n",
    "* For a more general review on progrmaming in R, UNIX, and Python, [the P3 Bootcamp materials](https://github.com/pommevilla/p3.bootcamp.2018) are  available.\n",
    "\n",
    "And, of course, if you have questions, feel free to email me at pev at iastate dot edu.\n",
    "\n",
    "Good luck!\n",
    "\n",
    "[Previous Section: A (very brief) introduction to machine learning](p3.matlab.fall2018-04.ipynb)<br>"
   ]
  }
 ],
 "metadata": {
  "kernelspec": {
   "display_name": "Matlab",
   "language": "matlab",
   "name": "matlab"
  },
  "language_info": {
   "codemirror_mode": "octave",
   "file_extension": ".m",
   "help_links": [
    {
     "text": "MetaKernel Magics",
     "url": "https://github.com/calysto/metakernel/blob/master/metakernel/magics/README.md"
    }
   ],
   "mimetype": "text/x-octave",
   "name": "matlab",
   "version": "0.15.1"
  }
 },
 "nbformat": 4,
 "nbformat_minor": 2
}
