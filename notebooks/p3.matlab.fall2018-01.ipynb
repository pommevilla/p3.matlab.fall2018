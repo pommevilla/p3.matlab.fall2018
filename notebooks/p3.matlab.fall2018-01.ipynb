{
 "cells": [
  {
   "cell_type": "markdown",
   "metadata": {},
   "source": [
    "# Introduction to MATLAB\n",
    "\n",
    "## Section 1: MATLAB Basics\n",
    "\n",
    "Let's begin by typing stuff into the console and seeing what happens.\n",
    "\n",
    "### Section 1.1: Arithmetic\n",
    "\n",
    "Just like with every other programming language, you can use MATLAB as a calculator.  Type the commands you see in the cells marked `In` into your console and press `Enter`; your output should match the `Out` cell directly beneath it."
   ]
  },
  {
   "cell_type": "code",
   "execution_count": 1,
   "metadata": {},
   "outputs": [
    {
     "name": "stdout",
     "output_type": "stream",
     "text": [
      "ans =\n",
      "     4\n"
     ]
    }
   ],
   "source": [
    "format compact\n",
    "1 + 3"
   ]
  },
  {
   "cell_type": "code",
   "execution_count": 2,
   "metadata": {},
   "outputs": [
    {
     "name": "stdout",
     "output_type": "stream",
     "text": [
      "ans =\n",
      "     8\n"
     ]
    }
   ],
   "source": [
    "2 * 4"
   ]
  },
  {
   "cell_type": "code",
   "execution_count": 3,
   "metadata": {},
   "outputs": [
    {
     "name": "stdout",
     "output_type": "stream",
     "text": [
      "ans =\n",
      "    0.5000\n"
     ]
    }
   ],
   "source": [
    "1/2"
   ]
  },
  {
   "cell_type": "markdown",
   "metadata": {},
   "source": [
    "As you would expect, MATLAB respects the order of operations you are used to from math:"
   ]
  },
  {
   "cell_type": "code",
   "execution_count": 4,
   "metadata": {},
   "outputs": [
    {
     "name": "stdout",
     "output_type": "stream",
     "text": [
      "ans =\n",
      "    24\n"
     ]
    }
   ],
   "source": [
    "20 + 2 / 1 * 2"
   ]
  },
  {
   "cell_type": "code",
   "execution_count": 5,
   "metadata": {},
   "outputs": [
    {
     "name": "stdout",
     "output_type": "stream",
     "text": [
      "ans =\n",
      "    44\n"
     ]
    }
   ],
   "source": [
    "(20 + 2) / 1 * 2"
   ]
  },
  {
   "cell_type": "markdown",
   "metadata": {},
   "source": [
    "You can save values to variables and do calculations with them.  Note the `;` at the end of each of the lines below: adding a `;` to a statement suppresses output to the console."
   ]
  },
  {
   "cell_type": "code",
   "execution_count": 6,
   "metadata": {},
   "outputs": [
    {
     "name": "stdout",
     "output_type": "stream",
     "text": [
      "ans =\n",
      "   127\n"
     ]
    }
   ],
   "source": [
    "x = 20;\n",
    "y = 7;\n",
    "x * y - 13"
   ]
  },
  {
   "cell_type": "markdown",
   "metadata": {},
   "source": [
    "Note the output: MATLAB stores the result of your last entered command in the variable `ans`.  "
   ]
  },
  {
   "cell_type": "code",
   "execution_count": 7,
   "metadata": {},
   "outputs": [
    {
     "name": "stdout",
     "output_type": "stream",
     "text": [
      "ans =\n",
      "   127\n"
     ]
    }
   ],
   "source": [
    "ans"
   ]
  },
  {
   "cell_type": "markdown",
   "metadata": {},
   "source": [
    "#### Exercise 1.1\n",
    "\n",
    "You can pull up the documentation on a function by typing `doc <function>` in the console.  Look up the documentation for the `mod` function and answer the following questions.\n",
    "\n",
    "1. How can you tell when a number is odd?\n",
    "2. How can you tell when a number is divisible by 10?\n",
    "\n",
    "\n",
    "### Section 1.2 : Matrices\n",
    "\n",
    "MATLAB is all about matrices.  Everything is a fucking matrix.  There are several ways to make matrices.  For example, if we wanted to make a row vector of the first 10 integers, we can do..."
   ]
  },
  {
   "cell_type": "code",
   "execution_count": 8,
   "metadata": {},
   "outputs": [
    {
     "name": "stdout",
     "output_type": "stream",
     "text": [
      "a =\n",
      "     1     2     3     4     5     6     7     8     9\n"
     ]
    }
   ],
   "source": [
    "a = [1, 2, 3, 4, 5, 6, 7, 8, 9]"
   ]
  },
  {
   "cell_type": "markdown",
   "metadata": {},
   "source": [
    "The `size` function returns the dimensions of an object.  For example:"
   ]
  },
  {
   "cell_type": "code",
   "execution_count": 9,
   "metadata": {},
   "outputs": [
    {
     "name": "stdout",
     "output_type": "stream",
     "text": [
      "ans =\n",
      "     1     9\n"
     ]
    }
   ],
   "source": [
    "size(a)"
   ]
  },
  {
   "cell_type": "markdown",
   "metadata": {},
   "source": [
    "This means that `a` is a matrix of 1 row and 9 columns.  \n",
    "\n",
    "You can access elements of a matrix by passing its index:"
   ]
  },
  {
   "cell_type": "code",
   "execution_count": 10,
   "metadata": {},
   "outputs": [
    {
     "name": "stdout",
     "output_type": "stream",
     "text": [
      "ans =\n",
      "     5\n"
     ]
    }
   ],
   "source": [
    "a(5)"
   ]
  },
  {
   "cell_type": "markdown",
   "metadata": {},
   "source": [
    "You can use the `end` keyword to access the last element of a matrix:"
   ]
  },
  {
   "cell_type": "code",
   "execution_count": 11,
   "metadata": {},
   "outputs": [
    {
     "name": "stdout",
     "output_type": "stream",
     "text": [
      "ans =\n",
      "     9\n"
     ]
    }
   ],
   "source": [
    "a(end)"
   ]
  },
  {
   "cell_type": "markdown",
   "metadata": {},
   "source": [
    "You can also access a range of values:"
   ]
  },
  {
   "cell_type": "code",
   "execution_count": 12,
   "metadata": {},
   "outputs": [
    {
     "name": "stdout",
     "output_type": "stream",
     "text": [
      "ans =\n",
      "     2     3     4     5\n"
     ]
    }
   ],
   "source": [
    "a(2:5)"
   ]
  },
  {
   "cell_type": "markdown",
   "metadata": {},
   "source": [
    "You can create a column vector by separating the row entires with a `;`:"
   ]
  },
  {
   "cell_type": "code",
   "execution_count": 13,
   "metadata": {},
   "outputs": [
    {
     "name": "stdout",
     "output_type": "stream",
     "text": [
      "b =\n",
      "    10\n",
      "    11\n",
      "    12\n",
      "    13\n",
      "    14\n",
      "    15\n",
      "    16\n",
      "    17\n",
      "    18\n"
     ]
    }
   ],
   "source": [
    "b = [10; 11; 12; 13; 14; 15; 16; 17; 18;]"
   ]
  },
  {
   "cell_type": "markdown",
   "metadata": {},
   "source": [
    "When we call `size` on `b`:"
   ]
  },
  {
   "cell_type": "code",
   "execution_count": 14,
   "metadata": {},
   "outputs": [
    {
     "name": "stdout",
     "output_type": "stream",
     "text": [
      "ans =\n",
      "     9     1\n"
     ]
    }
   ],
   "source": [
    "size(b)"
   ]
  },
  {
   "cell_type": "markdown",
   "metadata": {},
   "source": [
    "When the desired matrix is evenly spaced, we can take advantage of the `:` operator.  The syntax to use the `:` operator is `start:end`.  This will return a row vector of values from `start` to `end`.  For example, to create matrix `a` using the `:` operator, we can do:"
   ]
  },
  {
   "cell_type": "code",
   "execution_count": 15,
   "metadata": {},
   "outputs": [
    {
     "name": "stdout",
     "output_type": "stream",
     "text": [
      "a =\n",
      "     1     2     3     4     5     6     7     8     9\n"
     ]
    }
   ],
   "source": [
    "a = 1:9"
   ]
  },
  {
   "cell_type": "markdown",
   "metadata": {},
   "source": [
    "We can use the transpose (as in matrix transpose) operator `'` to create a column vector.  For example, we can create matrix `b` with the following command:"
   ]
  },
  {
   "cell_type": "code",
   "execution_count": 16,
   "metadata": {},
   "outputs": [
    {
     "name": "stdout",
     "output_type": "stream",
     "text": [
      "b =\n",
      "    10\n",
      "    11\n",
      "    12\n",
      "    13\n",
      "    14\n",
      "    15\n",
      "    16\n",
      "    17\n",
      "    18\n"
     ]
    }
   ],
   "source": [
    "b = (10:18)'"
   ]
  },
  {
   "cell_type": "markdown",
   "metadata": {},
   "source": [
    "The `:` operator also accepts an argument for the step size.  The syntax is `start:step:end`.  By default, `step` is set to 1.  Using the `:` operator, we can list the even numbers between 1 and 10 like so:"
   ]
  },
  {
   "cell_type": "code",
   "execution_count": 17,
   "metadata": {},
   "outputs": [
    {
     "name": "stdout",
     "output_type": "stream",
     "text": [
      "ans =\n",
      "     0     2     4     6     8    10\n"
     ]
    }
   ],
   "source": [
    "0:2:10"
   ]
  },
  {
   "cell_type": "markdown",
   "metadata": {},
   "source": [
    "The step size doesn't have to be an integer:"
   ]
  },
  {
   "cell_type": "code",
   "execution_count": 18,
   "metadata": {},
   "outputs": [
    {
     "name": "stdout",
     "output_type": "stream",
     "text": [
      "ans =\n",
      "  Columns 1 through 7\n",
      "    1.0000    1.1000    1.2000    1.3000    1.4000    1.5000    1.6000\n",
      "  Columns 8 through 11\n",
      "    1.7000    1.8000    1.9000    2.0000\n"
     ]
    }
   ],
   "source": [
    "1:0.1:2"
   ]
  },
  {
   "cell_type": "markdown",
   "metadata": {},
   "source": [
    "And we can combine the output of the `:` operator with the transpose operator `'`:"
   ]
  },
  {
   "cell_type": "code",
   "execution_count": 19,
   "metadata": {},
   "outputs": [
    {
     "name": "stdout",
     "output_type": "stream",
     "text": [
      "ans =\n",
      "    13\n",
      "    18\n",
      "    23\n",
      "    28\n",
      "    33\n",
      "    38\n"
     ]
    }
   ],
   "source": [
    "(13:5:39)'"
   ]
  },
  {
   "cell_type": "markdown",
   "metadata": {},
   "source": [
    "It may be the case that you know how many values you'd like but you don't know how to evenly space them.  In this case, you can use the `linspace` function.  The syntax for `linspace` is `linspace(start, end, n)`; `linspace` will return a **lin**early **space**d vector of `n` elements from `start` to `end`.  For example, if we wanted a list of 5 elements between 13 and 15:"
   ]
  },
  {
   "cell_type": "code",
   "execution_count": 20,
   "metadata": {},
   "outputs": [
    {
     "name": "stdout",
     "output_type": "stream",
     "text": [
      "ans =\n",
      "   13.0000   13.5000   14.0000   14.5000   15.0000\n"
     ]
    }
   ],
   "source": [
    "linspace(13, 15, 5)"
   ]
  },
  {
   "cell_type": "markdown",
   "metadata": {},
   "source": [
    "You can create matrices of higher dimensions by combining `;` and `,`:"
   ]
  },
  {
   "cell_type": "code",
   "execution_count": 21,
   "metadata": {},
   "outputs": [
    {
     "name": "stdout",
     "output_type": "stream",
     "text": [
      "c =\n",
      "     1     2     3\n",
      "     4     5     6\n",
      "     7     8     9\n"
     ]
    }
   ],
   "source": [
    "c = [1:3; 4:6; 7:9]"
   ]
  },
  {
   "cell_type": "markdown",
   "metadata": {},
   "source": [
    "We can access elements of matrix by supply a row and column number.  For instnace, to access the 8 in `c`, we can use:"
   ]
  },
  {
   "cell_type": "code",
   "execution_count": 22,
   "metadata": {},
   "outputs": [
    {
     "name": "stdout",
     "output_type": "stream",
     "text": [
      "ans =\n",
      "     8\n"
     ]
    }
   ],
   "source": [
    "c(3, 2)"
   ]
  },
  {
   "cell_type": "markdown",
   "metadata": {},
   "source": [
    "We can access all the elements along a given dimension by passing `:` to the index.  For instance, to access all the elements in the 2nd column, we can do:"
   ]
  },
  {
   "cell_type": "code",
   "execution_count": 23,
   "metadata": {},
   "outputs": [
    {
     "name": "stdout",
     "output_type": "stream",
     "text": [
      "ans =\n",
      "     2\n",
      "     5\n",
      "     8\n"
     ]
    }
   ],
   "source": [
    "c(:, 2)"
   ]
  },
  {
   "cell_type": "markdown",
   "metadata": {},
   "source": [
    "Or the 3rd row:"
   ]
  },
  {
   "cell_type": "code",
   "execution_count": 24,
   "metadata": {},
   "outputs": [
    {
     "name": "stdout",
     "output_type": "stream",
     "text": [
      "ans =\n",
      "     7     8     9\n"
     ]
    }
   ],
   "source": [
    "c(3, :)"
   ]
  },
  {
   "cell_type": "markdown",
   "metadata": {},
   "source": [
    "We can also reshape matrices using the `reshape` function.  The syntax for `reshape` is `reshape(mat, [dim_1, dim_2, ...]`, where `mat` is the matrix to be resized and `[dim_1, dim_2, ... ]` is the row vector of dimensions to resize `mat` to.  For example, we can turn `a` and `b` into 3 by 3 matrices:"
   ]
  },
  {
   "cell_type": "code",
   "execution_count": 25,
   "metadata": {},
   "outputs": [
    {
     "name": "stdout",
     "output_type": "stream",
     "text": [
      "a =\n",
      "     1     4     7\n",
      "     2     5     8\n",
      "     3     6     9\n"
     ]
    }
   ],
   "source": [
    "a = reshape(a, [3, 3])"
   ]
  },
  {
   "cell_type": "code",
   "execution_count": 26,
   "metadata": {},
   "outputs": [
    {
     "name": "stdout",
     "output_type": "stream",
     "text": [
      "b =\n",
      "    10    13    16\n",
      "    11    14    17\n",
      "    12    15    18\n"
     ]
    }
   ],
   "source": [
    "b = reshape(b, [3, 3])"
   ]
  },
  {
   "cell_type": "markdown",
   "metadata": {},
   "source": [
    "#### Exercise 1.2\n",
    "\n",
    "1. Use the `:` operator to count backwards from 100 in multiples of 3.\n",
    "2. What happens when you call `c(end)`?  What do you get when you call `c(end)`?  Why?\n",
    "3. Create a column vector `d` that contains the first 27 integers.  Reshape it into a 3-dimensional square matrix.  Visualize this matrix as a cube.  How would you access the \"floor\" of the cube?  The middle \"slice\" of the cube (ie, `[4, 5, 6; 13, 14, 15; 22, 23, 24]`)?  The elements `[19; 22; 25]`? \n",
    "4. Change the value in the center of `d` to `pi`.\n",
    "\n",
    "### Section 1.3: More Ways to Create a Matrix\n",
    "\n",
    "MATLAB has a few useful MATRIX creation methods.  We can create a matrix of zeros with the `zeros` function:"
   ]
  },
  {
   "cell_type": "code",
   "execution_count": 27,
   "metadata": {},
   "outputs": [
    {
     "name": "stdout",
     "output_type": "stream",
     "text": [
      "ans =\n",
      "     0     0\n",
      "     0     0\n"
     ]
    }
   ],
   "source": [
    "zeros(2)"
   ]
  },
  {
   "cell_type": "markdown",
   "metadata": {},
   "source": [
    "The argument of `zeros` is the dimensions of the array you want.  When only one integer is passed, `zeros` returns an `n` by `n` matrix.  When we pass more than one integer..."
   ]
  },
  {
   "cell_type": "code",
   "execution_count": 28,
   "metadata": {},
   "outputs": [
    {
     "name": "stdout",
     "output_type": "stream",
     "text": [
      "ans =\n",
      "     0     0     0\n",
      "     0     0     0\n"
     ]
    }
   ],
   "source": [
    "zeros(2, 3)"
   ]
  },
  {
   "cell_type": "code",
   "execution_count": 29,
   "metadata": {},
   "outputs": [
    {
     "name": "stdout",
     "output_type": "stream",
     "text": [
      "ans(:,:,1) =\n",
      "     0     0     0\n",
      "     0     0     0\n",
      "     0     0     0\n",
      "ans(:,:,2) =\n",
      "     0     0     0\n",
      "     0     0     0\n",
      "     0     0     0\n",
      "ans(:,:,3) =\n",
      "     0     0     0\n",
      "     0     0     0\n",
      "     0     0     0\n"
     ]
    }
   ],
   "source": [
    "zeros(3, 3, 3)"
   ]
  },
  {
   "cell_type": "markdown",
   "metadata": {},
   "source": [
    "...and so on.  Similarly, we can create an identity matrix with the `eye` function.  Like `zeros`, when passed one argument, `eye` will return a square matrix."
   ]
  },
  {
   "cell_type": "code",
   "execution_count": 30,
   "metadata": {},
   "outputs": [
    {
     "name": "stdout",
     "output_type": "stream",
     "text": [
      "ans =\n",
      "     1     0     0     0     0\n",
      "     0     1     0     0     0\n",
      "     0     0     1     0     0\n",
      "     0     0     0     1     0\n",
      "     0     0     0     0     1\n"
     ]
    }
   ],
   "source": [
    "eye(5)"
   ]
  },
  {
   "cell_type": "markdown",
   "metadata": {},
   "source": [
    "We can also pass multiple dimensions to `eye`; this will result in a matrix with 1s along the main diagonal and 0s elsewhere."
   ]
  },
  {
   "cell_type": "code",
   "execution_count": 31,
   "metadata": {},
   "outputs": [
    {
     "name": "stdout",
     "output_type": "stream",
     "text": [
      "ans =\n",
      "     1     0     0\n",
      "     0     1     0\n",
      "     0     0     1\n",
      "     0     0     0\n"
     ]
    }
   ],
   "source": [
    "eye(4, 3)"
   ]
  },
  {
   "cell_type": "markdown",
   "metadata": {},
   "source": [
    "A third function, `rand`, will return a matrix of random values.  "
   ]
  },
  {
   "cell_type": "code",
   "execution_count": 32,
   "metadata": {},
   "outputs": [
    {
     "name": "stdout",
     "output_type": "stream",
     "text": [
      "ans =\n",
      "    0.8147    0.0975    0.1576    0.1419    0.6557\n",
      "    0.9058    0.2785    0.9706    0.4218    0.0357\n",
      "    0.1270    0.5469    0.9572    0.9157    0.8491\n",
      "    0.9134    0.9575    0.4854    0.7922    0.9340\n",
      "    0.6324    0.9649    0.8003    0.9595    0.6787\n"
     ]
    }
   ],
   "source": [
    "rand(5)"
   ]
  },
  {
   "cell_type": "code",
   "execution_count": 33,
   "metadata": {},
   "outputs": [
    {
     "name": "stdout",
     "output_type": "stream",
     "text": [
      "x =\n",
      "    0.7577    0.3922    0.1712\n",
      "    0.7431    0.6555    0.7060\n"
     ]
    }
   ],
   "source": [
    "x = rand(2, 3)"
   ]
  },
  {
   "cell_type": "markdown",
   "metadata": {},
   "source": [
    "We can use `mean` to find the mean of a matrix along a given dimension.  The syntax for `mean` is `mean(mat, dim)`, where `mat` is the matrix of interest and `dim` is the dimension to take the means along.  For example:"
   ]
  },
  {
   "cell_type": "code",
   "execution_count": 34,
   "metadata": {},
   "outputs": [
    {
     "name": "stdout",
     "output_type": "stream",
     "text": [
      "ans =\n",
      "    0.7504    0.5239    0.4386\n"
     ]
    }
   ],
   "source": [
    "mean(x, 1)"
   ]
  },
  {
   "cell_type": "markdown",
   "metadata": {},
   "source": [
    "So we got a row vector containing the mean of each column.  Similarly, to get a column vector containing the mean of each row, we can do:"
   ]
  },
  {
   "cell_type": "code",
   "execution_count": 35,
   "metadata": {},
   "outputs": [
    {
     "name": "stdout",
     "output_type": "stream",
     "text": [
      "ans =\n",
      "    0.4404\n",
      "    0.7016\n"
     ]
    }
   ],
   "source": [
    "mean(x, 2)"
   ]
  },
  {
   "cell_type": "markdown",
   "metadata": {},
   "source": [
    "#### Exercise 1.3\n",
    "\n",
    "1. Look in the documentation for `mean` to see how to find the mean of all the values in `x`.  Why do you think `mean` defaults to operate along a given dimension?\n",
    "2. Use `std` to take the standard deviation of each column and of each row of `x`.  \n",
    "\n",
    "### Section 1.4: Matrix Operations\n",
    "\n",
    "Addition and multiplication between a scalar and a matrix is done componentwise.  For example:"
   ]
  },
  {
   "cell_type": "code",
   "execution_count": 36,
   "metadata": {},
   "outputs": [
    {
     "name": "stdout",
     "output_type": "stream",
     "text": [
      "a =\n",
      "     1     4     7\n",
      "     2     5     8\n",
      "     3     6     9\n"
     ]
    }
   ],
   "source": [
    "a"
   ]
  },
  {
   "cell_type": "code",
   "execution_count": 37,
   "metadata": {},
   "outputs": [
    {
     "name": "stdout",
     "output_type": "stream",
     "text": [
      "ans =\n",
      "     3     6     9\n",
      "     4     7    10\n",
      "     5     8    11\n"
     ]
    }
   ],
   "source": [
    "2 + a"
   ]
  },
  {
   "cell_type": "code",
   "execution_count": 38,
   "metadata": {},
   "outputs": [
    {
     "name": "stdout",
     "output_type": "stream",
     "text": [
      "ans =\n",
      "     3    12    21\n",
      "     6    15    24\n",
      "     9    18    27\n"
     ]
    }
   ],
   "source": [
    "a * 3"
   ]
  },
  {
   "cell_type": "markdown",
   "metadata": {},
   "source": [
    "You can add and subtract equally-sized matrices from each other:"
   ]
  },
  {
   "cell_type": "code",
   "execution_count": 39,
   "metadata": {},
   "outputs": [
    {
     "name": "stdout",
     "output_type": "stream",
     "text": [
      "ans =\n",
      "    11    17    23\n",
      "    13    19    25\n",
      "    15    21    27\n"
     ]
    }
   ],
   "source": [
    "a + b"
   ]
  },
  {
   "cell_type": "code",
   "execution_count": 40,
   "metadata": {},
   "outputs": [
    {
     "name": "stdout",
     "output_type": "stream",
     "text": [
      "ans =\n",
      "   -19   -22   -25\n",
      "   -20   -23   -26\n",
      "   -21   -24   -27\n"
     ]
    }
   ],
   "source": [
    "a - 2 * b"
   ]
  },
  {
   "cell_type": "markdown",
   "metadata": {},
   "source": [
    "We can do matrix multiplication between two matrices whose inner dimensions are equal:"
   ]
  },
  {
   "cell_type": "code",
   "execution_count": 41,
   "metadata": {},
   "outputs": [
    {
     "name": "stdout",
     "output_type": "stream",
     "text": [
      "ans =\n",
      "   138   174   210\n",
      "   171   216   261\n",
      "   204   258   312\n"
     ]
    }
   ],
   "source": [
    "a * b"
   ]
  },
  {
   "cell_type": "markdown",
   "metadata": {},
   "source": [
    "MATLAB also supports componentwise multiplication:"
   ]
  },
  {
   "cell_type": "code",
   "execution_count": 44,
   "metadata": {},
   "outputs": [
    {
     "name": "stdout",
     "output_type": "stream",
     "text": [
      "ans =\n",
      "    10    52   112\n",
      "    22    70   136\n",
      "    36    90   162\n"
     ]
    }
   ],
   "source": [
    "a .* b"
   ]
  },
  {
   "cell_type": "markdown",
   "metadata": {},
   "source": [
    "[Previous Section: Introduction](p3.matlab.fall2018-00.ipynb)<br>\n",
    "[Next Section: Application: Functions](p3.matlab.fall2018-02.ipynb)"
   ]
  }
 ],
 "metadata": {
  "kernelspec": {
   "display_name": "Matlab",
   "language": "matlab",
   "name": "matlab"
  },
  "language_info": {
   "codemirror_mode": "octave",
   "file_extension": ".m",
   "help_links": [
    {
     "text": "MetaKernel Magics",
     "url": "https://github.com/calysto/metakernel/blob/master/metakernel/magics/README.md"
    }
   ],
   "mimetype": "text/x-octave",
   "name": "matlab",
   "version": "0.15.1"
  }
 },
 "nbformat": 4,
 "nbformat_minor": 2
}
