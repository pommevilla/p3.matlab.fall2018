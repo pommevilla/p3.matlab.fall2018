{
 "cells": [
  {
   "cell_type": "markdown",
   "metadata": {},
   "source": [
    "# Introduction to MATLAB\n",
    "\n",
    "## Section 1: MATLAB Basics\n",
    "\n",
    "Let's begin by typing stuff into the console and seeing what happens.\n",
    "\n",
    "### Section 1.1: Arithmetic\n",
    "\n",
    "Just like with every other programming language, you can use MATLAB as a calculator.  Type the commands you see in the cells marked `In` into your console and press `Enter`; your output should match the `Out` cell directly beneath it."
   ]
  },
  {
   "cell_type": "code",
   "execution_count": 1,
   "metadata": {},
   "outputs": [
    {
     "name": "stdout",
     "output_type": "stream",
     "text": [
      "\n",
      "ans =\n",
      "\n",
      "     4\n",
      "\n"
     ]
    }
   ],
   "source": [
    "1 + 3"
   ]
  },
  {
   "cell_type": "code",
   "execution_count": 2,
   "metadata": {},
   "outputs": [
    {
     "name": "stdout",
     "output_type": "stream",
     "text": [
      "\n",
      "ans =\n",
      "\n",
      "     8\n",
      "\n"
     ]
    }
   ],
   "source": [
    "2 * 4"
   ]
  },
  {
   "cell_type": "code",
   "execution_count": 3,
   "metadata": {},
   "outputs": [
    {
     "name": "stdout",
     "output_type": "stream",
     "text": [
      "\n",
      "ans =\n",
      "\n",
      "    0.5000\n",
      "\n"
     ]
    }
   ],
   "source": [
    "1/2"
   ]
  },
  {
   "cell_type": "markdown",
   "metadata": {},
   "source": [
    "As you would expect, MATLAB respects the order of operations you are used to from math:"
   ]
  },
  {
   "cell_type": "code",
   "execution_count": 4,
   "metadata": {},
   "outputs": [
    {
     "name": "stdout",
     "output_type": "stream",
     "text": [
      "\n",
      "ans =\n",
      "\n",
      "    24\n",
      "\n"
     ]
    }
   ],
   "source": [
    "20 + 2 / 1 * 2"
   ]
  },
  {
   "cell_type": "code",
   "execution_count": 7,
   "metadata": {},
   "outputs": [
    {
     "name": "stdout",
     "output_type": "stream",
     "text": [
      "\n",
      "ans =\n",
      "\n",
      "    44\n",
      "\n"
     ]
    }
   ],
   "source": [
    "(20 + 2) / 1 * 2"
   ]
  },
  {
   "cell_type": "markdown",
   "metadata": {},
   "source": [
    "You can save values to variables and do calculations with them.  Note the `;` at the end of each of the lines below: adding a `;` to a statement suppresses output to the console."
   ]
  },
  {
   "cell_type": "code",
   "execution_count": null,
   "metadata": {},
   "outputs": [],
   "source": [
    "x = 20;\n",
    "y = 7;\n",
    "x * y - 13"
   ]
  },
  {
   "cell_type": "markdown",
   "metadata": {},
   "source": [
    "Note the output: MATLAB stores the result of your last entered command in the variable `ans`.  "
   ]
  },
  {
   "cell_type": "code",
   "execution_count": 8,
   "metadata": {},
   "outputs": [
    {
     "name": "stdout",
     "output_type": "stream",
     "text": [
      "\n",
      "ans =\n",
      "\n",
      "    44\n",
      "\n"
     ]
    }
   ],
   "source": [
    "ans"
   ]
  },
  {
   "cell_type": "markdown",
   "metadata": {},
   "source": [
    "#### Exercise 1.1\n",
    "\n",
    "You can pull up the documentation on a function by typing `doc <function>` in the console.  Look up the documentation for the `mod` function and answer the following questions.\n",
    "\n",
    "1. How can you tell when a number is odd?\n",
    "2. How can you tell when a number is divisible by 10?\n",
    "\n",
    "\n",
    "### Section 1.2 : Matrices\n",
    "\n",
    "MATLAB is all about matrices.  Everything is a fucking matrix.  There are several ways to make matrices.  For example, if we wanted to make a row vector of the first 10 integers, we can do..."
   ]
  },
  {
   "cell_type": "code",
   "execution_count": 5,
   "metadata": {},
   "outputs": [
    {
     "name": "stdout",
     "output_type": "stream",
     "text": [
      "\n",
      "a =\n",
      "\n",
      "     1     2     3     4     5     6     7     8     9\n",
      "\n"
     ]
    }
   ],
   "source": [
    "a = [1, 2, 3, 4, 5, 6, 7, 8, 9]"
   ]
  },
  {
   "cell_type": "markdown",
   "metadata": {},
   "source": [
    "The `size` function returns the dimensions of an object.  For example:"
   ]
  },
  {
   "cell_type": "code",
   "execution_count": 6,
   "metadata": {},
   "outputs": [
    {
     "name": "stdout",
     "output_type": "stream",
     "text": [
      "\n",
      "ans =\n",
      "\n",
      "     1     9\n",
      "\n"
     ]
    }
   ],
   "source": [
    "size(a)"
   ]
  },
  {
   "cell_type": "markdown",
   "metadata": {},
   "source": [
    "This means that `a` is a matrix of 1 row and 9 columns.  \n",
    "\n",
    "You can access elements of a matrix by passing its index:"
   ]
  },
  {
   "cell_type": "code",
   "execution_count": 26,
   "metadata": {},
   "outputs": [
    {
     "name": "stdout",
     "output_type": "stream",
     "text": [
      "\n",
      "ans =\n",
      "\n",
      "     5\n",
      "\n"
     ]
    }
   ],
   "source": [
    "a(5)"
   ]
  },
  {
   "cell_type": "markdown",
   "metadata": {},
   "source": [
    "You can use the `end` keyword to access the last element of a matrix:"
   ]
  },
  {
   "cell_type": "code",
   "execution_count": 27,
   "metadata": {},
   "outputs": [
    {
     "name": "stdout",
     "output_type": "stream",
     "text": [
      "\n",
      "ans =\n",
      "\n",
      "     9\n",
      "\n"
     ]
    }
   ],
   "source": [
    "a(end)"
   ]
  },
  {
   "cell_type": "markdown",
   "metadata": {},
   "source": [
    "You can also access a range of values:"
   ]
  },
  {
   "cell_type": "code",
   "execution_count": 28,
   "metadata": {},
   "outputs": [
    {
     "name": "stdout",
     "output_type": "stream",
     "text": [
      "\n",
      "ans =\n",
      "\n",
      "     2     3     4     5\n",
      "\n"
     ]
    }
   ],
   "source": [
    "a(2:5)"
   ]
  },
  {
   "cell_type": "markdown",
   "metadata": {},
   "source": [
    "You can create a column vector by separating the row entires with a `;`:"
   ]
  },
  {
   "cell_type": "code",
   "execution_count": 30,
   "metadata": {},
   "outputs": [
    {
     "name": "stdout",
     "output_type": "stream",
     "text": [
      "\n",
      "b =\n",
      "\n",
      "    10\n",
      "    11\n",
      "    12\n",
      "    13\n",
      "    14\n",
      "    15\n",
      "    16\n",
      "    17\n",
      "    18\n",
      "\n"
     ]
    }
   ],
   "source": [
    "b = [10; 11; 12; 13; 14; 15; 16; 17; 18;]"
   ]
  },
  {
   "cell_type": "markdown",
   "metadata": {},
   "source": [
    "When we call `size` on `b`:"
   ]
  },
  {
   "cell_type": "code",
   "execution_count": 31,
   "metadata": {},
   "outputs": [
    {
     "name": "stdout",
     "output_type": "stream",
     "text": [
      "\n",
      "ans =\n",
      "\n",
      "     9     1\n",
      "\n"
     ]
    }
   ],
   "source": [
    "size(b)"
   ]
  },
  {
   "cell_type": "markdown",
   "metadata": {},
   "source": [
    "When the desired matrix is evenly spaced, we can take advantage of the `:` operator.  The syntax to use the `:` operator is `start:end`.  This will return a row vector of values from `start` to `end`.  For example, to create matrix `a` using the `:` operator, we can do:"
   ]
  },
  {
   "cell_type": "code",
   "execution_count": 12,
   "metadata": {},
   "outputs": [
    {
     "name": "stdout",
     "output_type": "stream",
     "text": [
      "\n",
      "a =\n",
      "\n",
      "     1     2     3     4     5     6     7     8     9\n",
      "\n"
     ]
    }
   ],
   "source": [
    "a = 1:9"
   ]
  },
  {
   "cell_type": "markdown",
   "metadata": {},
   "source": [
    "We can use the transpose (as in matrix transpose) operator `'` to create a column vector.  For example, we can create matrix `b` with the following command:"
   ]
  },
  {
   "cell_type": "code",
   "execution_count": 35,
   "metadata": {},
   "outputs": [
    {
     "name": "stdout",
     "output_type": "stream",
     "text": [
      "\n",
      "b =\n",
      "\n",
      "    10\n",
      "    11\n",
      "    12\n",
      "    13\n",
      "    14\n",
      "    15\n",
      "    16\n",
      "    17\n",
      "    18\n",
      "\n"
     ]
    }
   ],
   "source": [
    "b = (10:18)'"
   ]
  },
  {
   "cell_type": "markdown",
   "metadata": {},
   "source": [
    "The `:` operator also accepts an argument for the step size.  The syntax is `start:step:end`.  By default, `step` is set to 1.  Using the `:` operator, we can list the even numbers between 1 and 10 like so:"
   ]
  },
  {
   "cell_type": "code",
   "execution_count": 24,
   "metadata": {},
   "outputs": [
    {
     "name": "stdout",
     "output_type": "stream",
     "text": [
      "\n",
      "ans =\n",
      "\n",
      "     0     2     4     6     8    10\n",
      "\n"
     ]
    }
   ],
   "source": [
    "0:2:10"
   ]
  },
  {
   "cell_type": "markdown",
   "metadata": {},
   "source": [
    "The step size doesn't have to be an integer:"
   ]
  },
  {
   "cell_type": "code",
   "execution_count": 19,
   "metadata": {},
   "outputs": [
    {
     "name": "stdout",
     "output_type": "stream",
     "text": [
      "\n",
      "ans =\n",
      "\n",
      "    1.0000\n",
      "    1.1000\n",
      "    1.2000\n",
      "    1.3000\n",
      "    1.4000\n",
      "    1.5000\n",
      "    1.6000\n",
      "    1.7000\n",
      "    1.8000\n",
      "    1.9000\n",
      "    2.0000\n",
      "\n"
     ]
    }
   ],
   "source": [
    "1:0.1:2"
   ]
  },
  {
   "cell_type": "markdown",
   "metadata": {},
   "source": [
    "And we can combine the output of the `:` operator with the transpose operator `'`:"
   ]
  },
  {
   "cell_type": "code",
   "execution_count": 20,
   "metadata": {},
   "outputs": [
    {
     "name": "stdout",
     "output_type": "stream",
     "text": [
      "\n",
      "ans =\n",
      "\n",
      "    13\n",
      "    18\n",
      "    23\n",
      "    28\n",
      "    33\n",
      "    38\n",
      "\n"
     ]
    }
   ],
   "source": [
    "(13:5:39)'"
   ]
  },
  {
   "cell_type": "markdown",
   "metadata": {},
   "source": [
    "It may be the case that you know how many values you'd like but you don't know how to evenly space them.  In this case, you can use the `linspace` function.  The syntax for `linspace` is `linspace(start, end, n)`; `linspace` will return a **lin**early **space**d vector of `n` elements from `start` to `end`.  For example, if we wanted a list of 5 elements between 13 and 15:"
   ]
  },
  {
   "cell_type": "code",
   "execution_count": 21,
   "metadata": {},
   "outputs": [
    {
     "name": "stdout",
     "output_type": "stream",
     "text": [
      "\n",
      "ans =\n",
      "\n",
      "   13.0000   13.5000   14.0000   14.5000   15.0000\n",
      "\n"
     ]
    }
   ],
   "source": [
    "linspace(13, 15, 5)"
   ]
  },
  {
   "cell_type": "markdown",
   "metadata": {},
   "source": [
    "You can create matrices of higher dimensions by combining `;` and `,`:"
   ]
  },
  {
   "cell_type": "code",
   "execution_count": 22,
   "metadata": {},
   "outputs": [
    {
     "name": "stdout",
     "output_type": "stream",
     "text": [
      "\n",
      "c =\n",
      "\n",
      "     1     2     3\n",
      "     4     5     6\n",
      "     7     8     9\n",
      "\n"
     ]
    }
   ],
   "source": [
    "c = [1:3; 4:6; 7:9]"
   ]
  },
  {
   "cell_type": "markdown",
   "metadata": {},
   "source": [
    "We can access elements of matrix by supply a row and column number.  For instnace, to access the 8 in `c`, we can use:"
   ]
  },
  {
   "cell_type": "code",
   "execution_count": 38,
   "metadata": {},
   "outputs": [
    {
     "name": "stdout",
     "output_type": "stream",
     "text": [
      "\n",
      "ans =\n",
      "\n",
      "     8\n",
      "\n"
     ]
    }
   ],
   "source": [
    "c(3, 2)"
   ]
  },
  {
   "cell_type": "code",
   "execution_count": null,
   "metadata": {},
   "outputs": [],
   "source": [
    "To access"
   ]
  },
  {
   "cell_type": "markdown",
   "metadata": {},
   "source": [
    "We can access all the elements along a given dimension by passing `:` to the index.  For instance, to access all the elements in the 2nd column, we can do:"
   ]
  },
  {
   "cell_type": "code",
   "execution_count": 39,
   "metadata": {},
   "outputs": [
    {
     "name": "stdout",
     "output_type": "stream",
     "text": [
      "\n",
      "ans =\n",
      "\n",
      "     2\n",
      "     5\n",
      "     8\n",
      "\n"
     ]
    }
   ],
   "source": [
    "c(:, 2)"
   ]
  },
  {
   "cell_type": "markdown",
   "metadata": {},
   "source": [
    "Or the 3rd row:"
   ]
  },
  {
   "cell_type": "code",
   "execution_count": 40,
   "metadata": {},
   "outputs": [
    {
     "name": "stdout",
     "output_type": "stream",
     "text": [
      "\n",
      "ans =\n",
      "\n",
      "     7     8     9\n",
      "\n"
     ]
    }
   ],
   "source": [
    "c(3, :)"
   ]
  },
  {
   "cell_type": "markdown",
   "metadata": {},
   "source": [
    "We can also reshape matrices using the `reshape` function.  The syntax for `reshape` is `reshape(mat, [dim_1, dim_2, ...]`, where `mat` is the matrix to be resized and `[dim_1, dim_2, ... ]` is the row vector of dimensions to resize `mat` to.  For example, we can turn `a` and `b` into 3 by 3 matrices:"
   ]
  },
  {
   "cell_type": "code",
   "execution_count": 36,
   "metadata": {},
   "outputs": [
    {
     "name": "stdout",
     "output_type": "stream",
     "text": [
      "\n",
      "a =\n",
      "\n",
      "     1     4     7\n",
      "     2     5     8\n",
      "     3     6     9\n",
      "\n"
     ]
    }
   ],
   "source": [
    "a = reshape(a, [3, 3])"
   ]
  },
  {
   "cell_type": "code",
   "execution_count": 37,
   "metadata": {},
   "outputs": [
    {
     "name": "stdout",
     "output_type": "stream",
     "text": [
      "\n",
      "b =\n",
      "\n",
      "    10    13    16\n",
      "    11    14    17\n",
      "    12    15    18\n",
      "\n"
     ]
    }
   ],
   "source": [
    "b = reshape(b, [3, 3])"
   ]
  },
  {
   "cell_type": "markdown",
   "metadata": {},
   "source": [
    "#### Exercise 1.2\n",
    "\n",
    "1. Use the `:` operator to count backwards from 10.  Save it to the variable \n",
    "2. Create a column vector `d` that contains the first 64 integers.  Reshape it into a 3-dimensional square matrix.\n",
    "3. What happens when you call `c(end)`?  Why?\n",
    "\n",
    "### Section 1.3: More About Matrices\n",
    "\n",
    "MATLAB has a few matrix creation methods"
   ]
  }
 ],
 "metadata": {
  "kernelspec": {
   "display_name": "Matlab",
   "language": "matlab",
   "name": "matlab"
  },
  "language_info": {
   "codemirror_mode": "octave",
   "file_extension": ".m",
   "help_links": [
    {
     "text": "MetaKernel Magics",
     "url": "https://github.com/calysto/metakernel/blob/master/metakernel/magics/README.md"
    }
   ],
   "mimetype": "text/x-octave",
   "name": "matlab",
   "version": "0.15.1"
  }
 },
 "nbformat": 4,
 "nbformat_minor": 2
}
