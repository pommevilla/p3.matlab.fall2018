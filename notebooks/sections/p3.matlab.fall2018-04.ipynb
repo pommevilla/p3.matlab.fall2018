{
 "cells": [
  {
   "cell_type": "markdown",
   "metadata": {},
   "source": [
    "# Introduction to MATLAB\n",
    "\n",
    "## Section 3: A (very brief) introduction to machine learning\n",
    "\n",
    "We will now apply what we've learned to solve a 'real' problem.  But before we tackle our PI's problem, we will learn some basic image processing concepts.\n",
    "\n",
    "### Section 3.1: Image Processing Basics.\n",
    "\n",
    "We can load an image into MATLAB by supplying the path to the `imread` function.  Save `rgb.png` to the variable `color_circles`.  **Make sure to put the semicolon at the end of the following command.**"
   ]
  }
 ],
 "metadata": {
  "kernelspec": {
   "display_name": "Matlab",
   "language": "matlab",
   "name": "matlab"
  },
  "language_info": {
   "codemirror_mode": "octave",
   "file_extension": ".m",
   "help_links": [
    {
     "text": "MetaKernel Magics",
     "url": "https://github.com/calysto/metakernel/blob/master/metakernel/magics/README.md"
    }
   ],
   "mimetype": "text/x-octave",
   "name": "matlab",
   "version": "0.15.1"
  }
 },
 "nbformat": 4,
 "nbformat_minor": 2
}
