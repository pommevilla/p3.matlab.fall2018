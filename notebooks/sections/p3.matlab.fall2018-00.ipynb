{
 "cells": [
  {
   "cell_type": "markdown",
   "metadata": {},
   "source": [
    "# Section 0: Introduction to MATLAB\n",
    "\n",
    "## Section 0.1: Table of Contents\n",
    "\n",
    "There are 6 parts:\n",
    "\n",
    "* [Introduction](p3.matlab.fall2018-00.ipynb)\n",
    "* [Basic MATLAB](p3.matlab.fall2018-01.ipynb)\n",
    "* [Writing Functions](p3.matlab.fall2018-02.ipynb)\n",
    "* [Use Case Study: Identifying Diseased Plants](p3.matlab.fall2018-03.ipynb)\n",
    "* [A Brief Introduction to Machine Learning](p3.matlab.fall2018-04.ipynb)\n",
    "* [Next Steps](p3.matlab.fall2018-05.ipynb)\n",
    "\n",
    "## Section 0.2: About MATLAB \n",
    "\n",
    "The majority of the data science you do will be done in Python, R, and UNIX.  So why bother learning MATLAB?\n",
    "\n",
    "* **A lot of packages and functions.** MATLAB has a huge selection of toolboxes to extend its base functionality that are easy to install and use.  You don't have to worry about making sure you have the right dependencies or creating virtual environments - it just works.  We'll use the Deep Learning Toolbox in [Section 4](p3.matlab.fall2018-04.ipynb).\n",
    "* **The IDE is very helpful.**  Like most IDEs, MATLAB will autocomplete variable names and display arguments to functions as you're inputting them.  However, it does a bunch of other useful things, such as offer suggestions for commands when you enter them incorrectly and make it easy to rename variables.\n",
    "* **Excellent documentation and training resources.**  MATHWORKS, the company responsible for MATLAB, spends a lot of time and resources making sure their documentation is consistent and thorough.  Seriously, look at [this](https://www.mathworks.com/help/deeplearning/ref/alexnet.html).  Also, MATHWORKS, the company responsible for MATLAB, offers a ton of [free training courses online](labacademy.mathworks.com). \n",
    "* **Easy to get something up and running** While MATLAB generally executes slower than other languages, it's strength lies in being able to quickly prototype ideas.  This is due to the first three points; it's easy to think of something, find a library that does what you need, and then learn enough about it to translate your thoughts into working code.\n",
    "* **Live Scripts are pretty sick.** Live Scripts are a file that let you combine text and code to communicate and share your research with others in a easy, portable way.  Think of Live Scripts as the MATLAB version of RMarkdown or Jupyter Notebooks but with additional functionality.  \n",
    " \n",
    "\n",
    "So why don't more people use MATLAB?\n",
    "\n",
    "* **MATLAB isn't free.**  MATLAB requires you purchase a license before you can use it.  Iowa State University (and many other universities), but if your institution or place of employment doesn't pay for your license, [it can be quite pricey](https://www.mathworks.com/pricing-licensing.html?prodcode=ML&intendeduse=edu).\n",
    "* **MATLAB isn't used by many people in the biological sciences.**  The majority of analysis/programming in the biological sciences is done in Python, R, and UNIX, and so it is easier to share\n",
    "* **MATLAB is memory and computationally intensive.** This is probably the main concern.  While MATLAB is great at prototyping ideas and developing proof-of-concepts (proofs-of-concept?), it is just generally slower than other languages.  \n",
    "\n",
    "## Section 0.3: The IDE\n",
    "\n",
    "When you open up MATLAB, you'll see something like this:\n",
    "\n",
    "\n",
    "![Some shit][matlab_ide]\n",
    "\n",
    "[matlab_ide]: ../../images/matlab_ide.png\n",
    "\n",
    "1. **Menu bar.** We'll cover more menu bar stuff later.  Of note is the bar at the bottom of this pane containing the current working directory.  Any file navigation you do will be done relative to this diretory.\n",
    "2. **File Directory.**\n",
    "3. **Console.** \n",
    "4. **Workspace.**\n",
    "\n",
    "When we begin working with functions and the Live Editor, the console pane will look quite different, but we'll worry about that later.  For now, let's get started.\n",
    "\n",
    "[Next Section: MATLAB basics](./p3.matlab.fall2018-01.ipynb)"
   ]
  }
 ],
 "metadata": {
  "kernelspec": {
   "display_name": "Matlab",
   "language": "matlab",
   "name": "matlab"
  },
  "language_info": {
   "codemirror_mode": "octave",
   "file_extension": ".m",
   "help_links": [
    {
     "text": "MetaKernel Magics",
     "url": "https://github.com/calysto/metakernel/blob/master/metakernel/magics/README.md"
    }
   ],
   "mimetype": "text/x-octave",
   "name": "matlab",
   "version": "0.15.1"
  }
 },
 "nbformat": 4,
 "nbformat_minor": 2
}
