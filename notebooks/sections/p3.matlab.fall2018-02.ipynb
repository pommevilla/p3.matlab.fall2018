{
 "cells": [
  {
   "cell_type": "markdown",
   "metadata": {},
   "source": [
    "# Introduction to MATLAB\n",
    "\n",
    "\n",
    "## Section 2: Functions\n",
    "\n",
    "Functions are modules of code that take in arguments and do something with them.  For instance, `size` takes in a matrix and returns its dimensions.  `mean` takes in a matrix and a dimension and returns the mean along that dimension.  The `:` operator is also a function; it takes a beginning, end, and step size and returns a matrix.  \n",
    "\n",
    "But why use functions?\n",
    "\n",
    "* **Portability**: By writing your code as a function, you can export it to your other programs and share it with others.  For example, when you're  doing research, someone may be interested in how you performed a certain analysis or data transformation.  \n",
    "* **Readability**: It's typically easier to understand what a fnction is doing by its name than by looking at it's code.  This is especially important when sharing code with other people.\n",
    "* **Debuggability**: Suppose you decide to copy-paste your code everywhere instead of writing a function. If you find an error in your code, you have to go to each code chunk and manually change it. On the other hand, if you wrote a function, you only need to make changes in the function declaration itself.\n",
    "\n",
    "We'll begin by working a little more with some built-in MATLAB functions.  Afterwards, we'll write some of our own.  \n",
    "\n",
    "### Section 2.1: Working with multiple function outputs\n",
    "\n",
    "Recall that `size` returns the dimensions of a matrix.  We can save the result into a single variable..."
   ]
  },
  {
   "cell_type": "code",
   "execution_count": 2,
   "metadata": {},
   "outputs": [
    {
     "name": "stdout",
     "output_type": "stream",
     "text": [
      "\n",
      "a_dims =\n",
      "\n",
      "     3     3\n",
      "\n"
     ]
    }
   ],
   "source": [
    "a = [1:3; 4:6; 7:9];\n",
    "a_dims = size(a)"
   ]
  },
  {
   "cell_type": "markdown",
   "metadata": {},
   "source": [
    "...and we can access the number of rows and columns by indexing:"
   ]
  },
  {
   "cell_type": "code",
   "execution_count": 3,
   "metadata": {},
   "outputs": [
    {
     "name": "stdout",
     "output_type": "stream",
     "text": [
      "\n",
      "ans =\n",
      "\n",
      "     3\n",
      "\n"
     ]
    }
   ],
   "source": [
    "a_dims(1)"
   ]
  },
  {
   "cell_type": "code",
   "execution_count": 4,
   "metadata": {},
   "outputs": [
    {
     "name": "stdout",
     "output_type": "stream",
     "text": [
      "\n",
      "ans =\n",
      "\n",
      "     3\n",
      "\n"
     ]
    }
   ],
   "source": [
    "a_dims(2)"
   ]
  },
  {
   "cell_type": "markdown",
   "metadata": {},
   "source": [
    "Note that `size` returned 2 values.  We can save each of these to a separate variable in the following way:"
   ]
  },
  {
   "cell_type": "code",
   "execution_count": 6,
   "metadata": {},
   "outputs": [],
   "source": [
    "[a_nrows, a_ncols] = size(a);"
   ]
  },
  {
   "cell_type": "markdown",
   "metadata": {},
   "source": [
    "And now we can use them as we would any other variable.  "
   ]
  },
  {
   "cell_type": "code",
   "execution_count": 7,
   "metadata": {},
   "outputs": [
    {
     "name": "stdout",
     "output_type": "stream",
     "text": [
      "\n",
      "a_nrows =\n",
      "\n",
      "     3\n",
      "\n"
     ]
    }
   ],
   "source": [
    "a_nrows"
   ]
  },
  {
   "cell_type": "code",
   "execution_count": 8,
   "metadata": {},
   "outputs": [
    {
     "name": "stdout",
     "output_type": "stream",
     "text": [
      "\n",
      "a_ncols =\n",
      "\n",
      "     3\n",
      "\n"
     ]
    }
   ],
   "source": [
    "a_ncols"
   ]
  },
  {
   "cell_type": "markdown",
   "metadata": {},
   "source": [
    "#### Exercise 2.1\n",
    "\n",
    "1. Create a row vector `y` of 20 random numbers.  Using the `max` function, find the largest element in `y` and the index of the largest element.  Save these values to `y_max` and `y_max_index`, respectively. \n",
    "\n",
    "### Section 2.2: Writing a function\n",
    "\n",
    "You can create a function in MATLAB by clicking `New > Function"
   ]
  },
  {
   "cell_type": "code",
   "execution_count": null,
   "metadata": {},
   "outputs": [],
   "source": []
  }
 ],
 "metadata": {
  "kernelspec": {
   "display_name": "Matlab",
   "language": "matlab",
   "name": "matlab"
  },
  "language_info": {
   "codemirror_mode": "octave",
   "file_extension": ".m",
   "help_links": [
    {
     "text": "MetaKernel Magics",
     "url": "https://github.com/calysto/metakernel/blob/master/metakernel/magics/README.md"
    }
   ],
   "mimetype": "text/x-octave",
   "name": "matlab",
   "version": "0.15.1"
  }
 },
 "nbformat": 4,
 "nbformat_minor": 2
}
